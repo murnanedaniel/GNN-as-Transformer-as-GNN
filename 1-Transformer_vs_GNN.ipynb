{
 "cells": [
  {
   "cell_type": "code",
   "execution_count": 6,
   "id": "114dd605-41de-4a02-a87a-caefa628569f",
   "metadata": {},
   "outputs": [],
   "source": [
    "import torch\n",
    "from torch import nn\n",
    "import math"
   ]
  },
  {
   "cell_type": "code",
   "execution_count": 7,
   "id": "f74b5590-402f-4455-a07e-69cfcdd4406d",
   "metadata": {},
   "outputs": [],
   "source": [
    "num_nodes = 4\n",
    "num_hidden = 5\n",
    "batch_size = 1\n",
    "attention_heads = 1"
   ]
  },
  {
   "cell_type": "markdown",
   "id": "fb1df3a1-dd88-4fe0-a14c-827acca0182c",
   "metadata": {},
   "source": [
    "## Transformer Version"
   ]
  },
  {
   "cell_type": "code",
   "execution_count": 83,
   "id": "105115a4",
   "metadata": {},
   "outputs": [],
   "source": [
    "# Set pytorch random seed\n",
    "torch.manual_seed(0);"
   ]
  },
  {
   "cell_type": "code",
   "execution_count": 84,
   "id": "92212b2c-d62e-4c88-adce-b4edfed0d9fb",
   "metadata": {},
   "outputs": [],
   "source": [
    "linear_q = nn.Linear(num_hidden, num_hidden).to(\"cuda\")\n",
    "linear_k = nn.Linear(num_hidden, num_hidden).to(\"cuda\")\n",
    "linear_v = nn.Linear(num_hidden, num_hidden).to(\"cuda\")\n",
    "softmax = nn.Softmax(dim=-1).to(\"cuda\")\n",
    "linear_out = nn.Linear(num_hidden, num_hidden).to(\"cuda\")"
   ]
  },
  {
   "cell_type": "code",
   "execution_count": 85,
   "id": "cfe6dfeb-94c3-46b4-8599-cbf8d5f92c12",
   "metadata": {},
   "outputs": [],
   "source": [
    "h = torch.randn(batch_size, attention_heads, num_nodes, num_hidden).to(\"cuda\")"
   ]
  },
  {
   "cell_type": "code",
   "execution_count": 86,
   "id": "16e85edb",
   "metadata": {},
   "outputs": [],
   "source": [
    "q = linear_q(h)\n",
    "k = linear_k(h)\n",
    "v = linear_v(h)"
   ]
  },
  {
   "cell_type": "code",
   "execution_count": 87,
   "metadata": {},
   "outputs": [],
   "source": [
    "dot_product = torch.matmul(q, k.transpose(2, 3)) / math.sqrt(num_hidden)"
   ]
  },
  {
   "cell_type": "code",
   "execution_count": 88,
   "id": "b198e385",
   "metadata": {},
   "outputs": [
    {
     "data": {
      "text/plain": [
       "tensor([[[[ 0.2910, -0.1490, -0.5712,  0.1110],\n",
       "          [ 0.0089,  0.8476,  1.3841, -0.5947],\n",
       "          [-0.5246,  0.4699,  2.5532, -1.0397],\n",
       "          [ 0.2927, -0.4655, -0.7424,  0.1140]]]], device='cuda:0',\n",
       "       grad_fn=<DivBackward0>)"
      ]
     },
     "execution_count": 88,
     "metadata": {},
     "output_type": "execute_result"
    }
   ],
   "source": [
    "dot_product"
   ]
  },
  {
   "cell_type": "code",
   "execution_count": 89,
   "id": "ea41a375",
   "metadata": {},
   "outputs": [],
   "source": [
    "attn_weights = softmax(dot_product)\n",
    "attn_output = torch.matmul(attn_weights, v)"
   ]
  },
  {
   "cell_type": "code",
   "execution_count": 90,
   "id": "24c901ac",
   "metadata": {},
   "outputs": [
    {
     "data": {
      "text/plain": [
       "tensor([[[[0.3446, 0.2220, 0.1455, 0.2879],\n",
       "          [0.1279, 0.2960, 0.5061, 0.0700],\n",
       "          [0.0384, 0.1039, 0.8347, 0.0230],\n",
       "          [0.3759, 0.1761, 0.1335, 0.3144]]]], device='cuda:0',\n",
       "       grad_fn=<SoftmaxBackward0>)"
      ]
     },
     "execution_count": 90,
     "metadata": {},
     "output_type": "execute_result"
    }
   ],
   "source": [
    "attn_weights"
   ]
  },
  {
   "cell_type": "code",
   "execution_count": 5,
   "id": "df1bb1f0-07fa-4ec9-a9a8-61b99d94f18c",
   "metadata": {},
   "outputs": [],
   "source": [
    "def transformer_update(h):\n",
    "    # apply linear layers to compute query, key, and value\n",
    "    q = linear_q(h)\n",
    "    k = linear_k(h)\n",
    "    v = linear_v(h)\n",
    "\n",
    "    # compute dot product of query and key, and apply softmax\n",
    "    dot_product = torch.matmul(q, k.transpose(2, 3)) / math.sqrt(num_hidden)\n",
    "    attn_weights = softmax(dot_product)\n",
    "\n",
    "    # apply dot product of attention weights and value\n",
    "    attn_output = torch.matmul(attn_weights, v)\n",
    "    \n",
    "    return attn_output"
   ]
  },
  {
   "cell_type": "markdown",
   "id": "1079393c-0b15-4de0-9536-cd4a3bd65739",
   "metadata": {},
   "source": [
    "## GNN Version"
   ]
  },
  {
   "cell_type": "code",
   "execution_count": 92,
   "id": "32b9e2b8-9916-4220-a434-93938b5a66bb",
   "metadata": {},
   "outputs": [],
   "source": [
    "from torch_scatter import scatter_add\n",
    "from torch_geometric import utils\n",
    "import warnings\n",
    "warnings.filterwarnings(\"ignore\")"
   ]
  },
  {
   "cell_type": "code",
   "execution_count": 93,
   "id": "105115a4",
   "metadata": {},
   "outputs": [],
   "source": [
    "# Set pytorch random seed\n",
    "torch.manual_seed(0);"
   ]
  },
  {
   "cell_type": "code",
   "execution_count": 94,
   "id": "92212b2c-d62e-4c88-adce-b4edfed0d9fb",
   "metadata": {},
   "outputs": [],
   "source": [
    "linear_q = nn.Linear(num_hidden, num_hidden).to(\"cuda\")\n",
    "linear_k = nn.Linear(num_hidden, num_hidden).to(\"cuda\")\n",
    "linear_v = nn.Linear(num_hidden, num_hidden).to(\"cuda\")\n",
    "softmax = nn.Softmax(dim=-1).to(\"cuda\")\n",
    "linear_out = nn.Linear(num_hidden, num_hidden).to(\"cuda\")"
   ]
  },
  {
   "cell_type": "code",
   "execution_count": 95,
   "id": "cfe6dfeb-94c3-46b4-8599-cbf8d5f92c12",
   "metadata": {},
   "outputs": [],
   "source": [
    "h = torch.randn(batch_size, attention_heads, num_nodes, num_hidden).to(\"cuda\")\n",
    "h = h.squeeze()\n",
    "edges = torch.stack(torch.meshgrid(torch.arange(num_nodes), torch.arange(num_nodes))).reshape(2, -1).to(\"cuda\")"
   ]
  },
  {
   "cell_type": "code",
   "execution_count": 96,
   "id": "81417fa0",
   "metadata": {},
   "outputs": [],
   "source": [
    "q = linear_q(h)\n",
    "k = linear_k(h)\n",
    "v = linear_v(h)"
   ]
  },
  {
   "cell_type": "code",
   "execution_count": 97,
   "id": "31a2ef89",
   "metadata": {},
   "outputs": [],
   "source": [
    "incoming, outgoing = edges"
   ]
  },
  {
   "cell_type": "code",
   "execution_count": 98,
   "id": "da76016a",
   "metadata": {},
   "outputs": [],
   "source": [
    "dot_product = (q[incoming]*k[outgoing]).sum(dim=-1) / math.sqrt(num_hidden)"
   ]
  },
  {
   "cell_type": "code",
   "execution_count": 99,
   "id": "9858462d",
   "metadata": {},
   "outputs": [],
   "source": [
    "attn_weights = utils.softmax(dot_product, incoming)"
   ]
  },
  {
   "cell_type": "code",
   "execution_count": 101,
   "id": "3bf5831d",
   "metadata": {},
   "outputs": [],
   "source": [
    "attn_output = scatter_add(attn_weights[:, None]*v[outgoing], incoming, dim=0, dim_size=h.shape[0])"
   ]
  },
  {
   "cell_type": "code",
   "execution_count": 102,
   "id": "ef644973",
   "metadata": {},
   "outputs": [
    {
     "data": {
      "text/plain": [
       "tensor([[ 0.0539, -0.2314, -0.7193,  0.2311,  0.5558],\n",
       "        [ 0.0022,  0.2890, -0.1338, -0.1758,  0.5741],\n",
       "        [-0.1504,  0.6230,  0.3954, -0.5747,  0.5293],\n",
       "        [ 0.0375, -0.2709, -0.7365,  0.2375,  0.5486]], device='cuda:0',\n",
       "       grad_fn=<ScatterAddBackward0>)"
      ]
     },
     "execution_count": 102,
     "metadata": {},
     "output_type": "execute_result"
    }
   ],
   "source": [
    "attn_output"
   ]
  },
  {
   "cell_type": "code",
   "execution_count": 8,
   "id": "132493f8-41f3-4527-a648-6760f9210f23",
   "metadata": {},
   "outputs": [],
   "source": [
    "def gnn_update(h, edges):\n",
    "    start, end = edges\n",
    "    \n",
    "    q = linear_q(h)\n",
    "    k = linear_k(h)\n",
    "    v = linear_v(h)\n",
    "    \n",
    "    dot_product = (q[start]*k[end]).sum(dim=-1)\n",
    "    attn_output = scatter_add(dot_product[:, None]*v[start], end, dim=0, dim_size=h.shape[0])\n",
    "    \n",
    "    return attn_output"
   ]
  }
 ],
 "metadata": {
  "kernelspec": {
   "display_name": "gnn4na",
   "language": "python",
   "name": "gnn4na"
  },
  "language_info": {
   "codemirror_mode": {
    "name": "ipython",
    "version": 3
   },
   "file_extension": ".py",
   "mimetype": "text/x-python",
   "name": "python",
   "nbconvert_exporter": "python",
   "pygments_lexer": "ipython3",
   "version": "3.9.15 | packaged by conda-forge | (main, Nov 22 2022, 15:55:03) \n[GCC 10.4.0]"
  }
 },
 "nbformat": 4,
 "nbformat_minor": 5
}
